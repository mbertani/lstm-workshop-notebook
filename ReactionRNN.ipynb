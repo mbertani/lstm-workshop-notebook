{
 "cells": [
  {
   "cell_type": "markdown",
   "metadata": {},
   "source": [
    "# Sentiment Analysis with reactionrnn\n",
    "Source: https://github.com/minimaxir/reactionrnn/blob/master/README.md\n",
    "\n",
    "reactionrnn is a Python 2/3 module + R package on top of Keras/TensorFlow which can easily predict the proportionate reactions (love, wow, haha, sad, angry) to a given text using a pretrained recurrent neural network."
   ]
  },
  {
   "cell_type": "code",
   "execution_count": null,
   "metadata": {},
   "outputs": [],
   "source": [
    "from reactionrnn import reactionrnn\n",
    "\n",
    "# Add emoji to the output dictionary for easier interpretation\n",
    "def add_emoji(dic):\n",
    "    tr = {'love':'\\U00002764 love','wow':'\\U0001F632 wow',\n",
    "          'sad':'\\U0001F61E sad','haha':'\\U0001F604 haha',\n",
    "          'angry':'\\U0001F620 angry'}\n",
    "    return {tr[k]: v for k, v in dic.items()}\n",
    "\n",
    "# Return a dictionary with the tweet and the evaluation\n",
    "def predict_sentiment(tweet):\n",
    "    react = reactionrnn()\n",
    "    result = add_emoji(react.predict(tweet))\n",
    "    result['tweet']=tweet\n",
    "    return result"
   ]
  },
  {
   "cell_type": "code",
   "execution_count": null,
   "metadata": {},
   "outputs": [],
   "source": [
    "america=\"MAKE AMERICA GREAT AGAIN!\"\n",
    "predict_sentiment(america)"
   ]
  }
 ],
 "metadata": {
  "kernelspec": {
   "display_name": "Python 3",
   "language": "python",
   "name": "python3"
  },
  "language_info": {
   "codemirror_mode": {
    "name": "ipython",
    "version": 3
   },
   "file_extension": ".py",
   "mimetype": "text/x-python",
   "name": "python",
   "nbconvert_exporter": "python",
   "pygments_lexer": "ipython3",
   "version": "3.6.1"
  }
 },
 "nbformat": 4,
 "nbformat_minor": 2
}
