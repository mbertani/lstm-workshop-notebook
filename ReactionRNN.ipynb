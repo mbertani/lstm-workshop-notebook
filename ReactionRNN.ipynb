{
 "cells": [
  {
   "cell_type": "markdown",
   "metadata": {},
   "source": [
    "# Sentiment Analysis with reactionrnn\n",
    "Source: https://github.com/minimaxir/reactionrnn/blob/master/README.md\n",
    "\n",
    "reactionrnn is a Python 2/3 module + R package on top of Keras/TensorFlow which can easily predict the proportionate reactions (love, wow, haha, sad, angry) to a given text using a pretrained recurrent neural network.\n",
    "\n",
    "Unlike traditional sentiment analysis models using tools like [word2vec](https://en.wikipedia.org/wiki/Word2vec)/[doc2vec](https://radimrehurek.com/gensim/models/doc2vec.html), reactionrnn handles text at the character level, allowing it to incorporate capitalization, grammar, text length, and sarcasm in its predictions.\n",
    "\n",
    "reactionrnn is based off of the blog post [Classifying the Emotions of Facebook Posts Using Reactions Data](http://minimaxir.com/2016/06/interactive-reactions/), which noted that there is a certain nuance to the proportionality of the reactions on a Facebook status. \n",
    "\n",
    "reactionrnn takes in an input of up to 140 characters (for compatability with Twitter tweets), converts each character to a 100D character embedding vector, and feeds those into a 256-cell [gated recurrent unit layer](https://en.wikipedia.org/wiki/Gated_recurrent_unit). That output regresses the five non-Like Reactions all simultaneously and outputs the predicted proportionality values for each; predicted values will always sum to 1.\n",
    "\n",
    "## Notes\n",
    "\n",
    "- Keep in mind that the network is trained on modern (2016-2017) language. As a result, inputting rhetorical/ironic statements will often yield love/wow responses and not sad/angry.\n",
    "- If a text sequence is >140 characters, reactionrnn will only use the first 140 characters.\n",
    "- Take a look at the blog post, since it is important that you familiarize yourself with the kind of data used to train the model."
   ]
  },
  {
   "cell_type": "code",
   "execution_count": null,
   "metadata": {
    "collapsed": true
   },
   "outputs": [],
   "source": [
    "from reactionrnn import reactionrnn\n",
    "\n",
    "# Add emoji to the output dictionary for easier interpretation\n",
    "def add_emoji(dic):\n",
    "    tr = {'love':'\\U00002764 love','wow':'\\U0001F632 wow',\n",
    "          'sad':'\\U0001F61E sad','haha':'\\U0001F604 haha',\n",
    "          'angry':'\\U0001F620 angry'}\n",
    "    return {tr[k]: v for k, v in dic.items()}\n",
    "\n",
    "# Return a dictionary with the tweet and the evaluation\n",
    "def predict_sentiment(tweet):\n",
    "    react = reactionrnn()\n",
    "    result = add_emoji(react.predict(tweet))\n",
    "    result['tweet']=tweet\n",
    "    return result"
   ]
  },
  {
   "cell_type": "code",
   "execution_count": null,
   "metadata": {},
   "outputs": [],
   "source": [
    "tweet=\"MAKE AMERICA GREAT AGAIN!\"\n",
    "predict_sentiment(tweet)"
   ]
  },
  {
   "cell_type": "code",
   "execution_count": null,
   "metadata": {},
   "outputs": [],
   "source": [
    "tweet=\"Despite the negative press covfefe,\"\n",
    "predict_sentiment(tweet)"
   ]
  },
  {
   "cell_type": "code",
   "execution_count": null,
   "metadata": {},
   "outputs": [],
   "source": [
    "tweet=\"Officer killed 1 day after joining the army.\"\n",
    "predict_sentiment(tweet)"
   ]
  },
  {
   "cell_type": "code",
   "execution_count": null,
   "metadata": {},
   "outputs": [],
   "source": [
    "angry_tweet=\"\"\n",
    "predict_sentiment(angry_tweet)"
   ]
  },
  {
   "cell_type": "code",
   "execution_count": null,
   "metadata": {
    "collapsed": true
   },
   "outputs": [],
   "source": [
    "wow_tweet=\"\"\n",
    "predict_sentiment(wow_tweet)"
   ]
  }
 ],
 "metadata": {
  "kernelspec": {
   "display_name": "Python 3",
   "language": "python",
   "name": "python3"
  },
  "language_info": {
   "codemirror_mode": {
    "name": "ipython",
    "version": 3
   },
   "file_extension": ".py",
   "mimetype": "text/x-python",
   "name": "python",
   "nbconvert_exporter": "python",
   "pygments_lexer": "ipython3",
   "version": "3.6.1"
  }
 },
 "nbformat": 4,
 "nbformat_minor": 2
}
